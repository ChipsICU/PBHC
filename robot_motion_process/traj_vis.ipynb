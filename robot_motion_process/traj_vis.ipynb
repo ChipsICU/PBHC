{
 "cells": [
  {
   "cell_type": "code",
   "execution_count": 159,
   "metadata": {},
   "outputs": [],
   "source": [
    "import matplotlib.pyplot as plt\n",
    "# plt.rcParams['font.family'] = 'Times New Roman'"
   ]
  },
  {
   "cell_type": "code",
   "execution_count": 160,
   "metadata": {},
   "outputs": [],
   "source": [
    "\n",
    "import joblib\n",
    "import torch\n",
    "from typing import Tuple\n",
    "Tensor = torch.Tensor\n",
    "from typing import Dict, Union\n",
    "import numpy as np\n",
    "\n",
    "    # default_joint_angles:\n",
    "    #   left_hip_pitch_joint: -0.1\n",
    "    #   left_hip_roll_joint: 0.\n",
    "    #   left_hip_yaw_joint: 0.\n",
    "    #   left_knee_joint: 0.3\n",
    "    #   left_ankle_pitch_joint: -0.2\n",
    "    #   left_ankle_roll_joint: 0.\n",
    "    #   right_hip_pitch_joint: -0.1\n",
    "    #   right_hip_roll_joint: 0.\n",
    "    #   right_hip_yaw_joint: 0.\n",
    "    #   right_knee_joint: 0.3\n",
    "    #   right_ankle_pitch_joint: -0.2\n",
    "    #   right_ankle_roll_joint: 0.\n",
    "    #   waist_yaw_joint : 0.\n",
    "    #   waist_roll_joint : 0.\n",
    "    #   waist_pitch_joint : 0.\n",
    "    #   left_shoulder_pitch_joint: 0.2\n",
    "    #   left_shoulder_roll_joint: 0.2\n",
    "    #   left_shoulder_yaw_joint: 0.\n",
    "    #   left_elbow_joint: 0.9\n",
    "    #   right_shoulder_pitch_joint: 0.2\n",
    "    #   right_shoulder_roll_joint: -0.2\n",
    "    #   right_shoulder_yaw_joint: 0.\n",
    "    #   right_elbow_joint: 0.9\n",
    "    \n",
    "import numpy as np\n",
    "\n",
    "default_joint_angles = np.array([\n",
    "    -0.1, 0.0, 0.0, 0.3, -0.2, 0.0, \n",
    "    -0.1, 0.0, 0.0, 0.3, -0.2, 0.0, \n",
    "    0.0, 0.0, 0.0, \n",
    "    0.2, 0.2, 0.0, 0.9, \n",
    "    0.2, -0.2, 0.0, 0.9\n",
    "])\n",
    "\n",
    "def wrap_to_pi_float(angles:Union[float, np.ndarray]):\n",
    "    angles %= 2*np.pi\n",
    "    angles -= 2*np.pi * (angles > np.pi)\n",
    "    return angles\n",
    "\n",
    "def copysign(a, b):\n",
    "    # type: (float, Tensor) -> Tensor\n",
    "    a = torch.tensor(a, device=b.device, dtype=torch.float).repeat(b.shape[0])\n",
    "    return torch.abs(a) * torch.sign(b)\n",
    "\n",
    "def get_euler_xyz(q: Tensor, w_last: bool) -> Tuple[Tensor, Tensor, Tensor]:\n",
    "    q=torch.from_numpy(q)\n",
    "    if w_last:\n",
    "        qx, qy, qz, qw = 0, 1, 2, 3\n",
    "    else:\n",
    "        qw, qx, qy, qz = 0, 1, 2, 3\n",
    "    # roll (x-axis rotation)\n",
    "    sinr_cosp = 2.0 * (q[:, qw] * q[:, qx] + q[:, qy] * q[:, qz])\n",
    "    cosr_cosp = (\n",
    "        q[:, qw] * q[:, qw]\n",
    "        - q[:, qx] * q[:, qx]\n",
    "        - q[:, qy] * q[:, qy]\n",
    "        + q[:, qz] * q[:, qz]\n",
    "    )\n",
    "    roll = torch.atan2(sinr_cosp, cosr_cosp)\n",
    "\n",
    "    # pitch (y-axis rotation)\n",
    "    sinp = 2.0 * (q[:, qw] * q[:, qy] - q[:, qz] * q[:, qx])\n",
    "    pitch = torch.where(\n",
    "        torch.abs(sinp) >= 1, copysign(np.pi / 2.0, sinp), torch.asin(sinp)\n",
    "    )\n",
    "\n",
    "    # yaw (z-axis rotation)\n",
    "    siny_cosp = 2.0 * (q[:, qw] * q[:, qz] + q[:, qx] * q[:, qy])\n",
    "    cosy_cosp = (\n",
    "        q[:, qw] * q[:, qw]\n",
    "        + q[:, qx] * q[:, qx]\n",
    "        - q[:, qy] * q[:, qy]\n",
    "        - q[:, qz] * q[:, qz]\n",
    "    )\n",
    "    yaw = torch.atan2(siny_cosp, cosy_cosp)\n",
    "\n",
    "    return wrap_to_pi_float(roll), wrap_to_pi_float(pitch), wrap_to_pi_float(yaw)\n",
    "\n",
    "\n",
    "import math\n",
    "def quat_to_euler(x, y, z, w):\n",
    "    \"\"\"Convert quaternion (xyzw) to Euler angles (roll, pitch, yaw) in radians\"\"\"\n",
    "    # Roll (x-axis rotation)\n",
    "    sinr_cosp = 2 * (w * x + y * z)\n",
    "    cosr_cosp = 1 - 2 * (x * x + y * y)\n",
    "    roll = math.atan2(sinr_cosp, cosr_cosp)\n",
    "\n",
    "    # Pitch (y-axis rotation)\n",
    "    sinp = 2 * (w * y - z * x)\n",
    "    if abs(sinp) >= 1:\n",
    "        print(\"Warning: Pitch out of range, using 90 degrees\")\n",
    "        pitch = math.copysign(math.pi / 2, sinp)  # Use 90 degrees if out of range\n",
    "    else:\n",
    "        pitch = math.asin(sinp)\n",
    "\n",
    "    # Yaw (z-axis rotation)\n",
    "    siny_cosp = 2 * (w * z + x * y)\n",
    "    cosy_cosp = 1 - 2 * (y * y + z * z)\n",
    "    yaw = math.atan2(siny_cosp, cosy_cosp)\n",
    "\n",
    "    return roll, pitch, yaw\n",
    "\n",
    "\n",
    "def euler_to_quat(roll, pitch, yaw):\n",
    "    \"\"\"Convert Euler angles (radians) to quaternion (xyzw)\"\"\"\n",
    "    cy = math.cos(yaw * 0.5)\n",
    "    sy = math.sin(yaw * 0.5)\n",
    "    cp = math.cos(pitch * 0.5)\n",
    "    sp = math.sin(pitch * 0.5)\n",
    "    cr = math.cos(roll * 0.5)\n",
    "    sr = math.sin(roll * 0.5)\n",
    "\n",
    "    x = sr * cp * cy - cr * sp * sy\n",
    "    y = cr * sp * cy + sr * cp * sy\n",
    "    z = cr * cp * sy - sr * sp * cy\n",
    "    w = cr * cp * cy + sr * sp * sy\n",
    "\n",
    "    return np.array([x, y, z, w])\n",
    "\n",
    "def remove_yaw(quaternions):\n",
    "    \"\"\"Remove yaw component by converting to Euler angles and zeroing yaw\"\"\"\n",
    "    eulers = np.array([quat_to_euler(*q) for q in quaternions])\n",
    "    eulers[:, 2] = 0  # Zero yaw\n",
    "    new_quats = np.array([euler_to_quat(r, p, y) for r, p, y in eulers])\n",
    "    return new_quats\n",
    "\n",
    "\n",
    "    \n",
    "import sys\n",
    "from pathlib import Path\n",
    "\n",
    "import hydra\n",
    "from hydra.utils import instantiate\n",
    "from hydra.core.hydra_config import HydraConfig\n",
    "from hydra.core.config_store import ConfigStore\n",
    "from omegaconf import OmegaConf\n",
    "import omegaconf\n",
    "\n",
    "Root_Path = Path(\"/home/bcj/PBHC-Internal\")\n",
    "def get_motionlib_data(motion_file_path, robot_cfg_path=\"../humanoidverse/config/robot/g1/g1_23dof_lock_wrist.yaml\"):\n",
    "    robot_cfg = omegaconf.OmegaConf.load(robot_cfg_path)\n",
    "    robot_cfg.robot.motion.motion_file = motion_file_path\n",
    "    robot_cfg.robot.motion.asset.assetFileName = \"g1_23dof_lock_wrist_fitmotionONLY.xml\"\n",
    "    robot_cfg.robot.motion.asset.assetRoot = Root_Path / \"description/robots/g1/\"\n",
    "    \n",
    "    from humanoidverse.utils.motion_lib.motion_lib_robot_WJX import MotionLibRobotWJX\n",
    "    motion_lib = MotionLibRobotWJX(robot_cfg.robot.motion, num_envs=1, device='cpu')\n",
    "    motion_data = motion_lib.load_motions(random_sample=False)[0]\n",
    "    \n",
    "    # print(motion_data.keys())\n",
    "    # dict_keys(['global_velocity_extend', 'global_angular_velocity_extend', 'global_translation_extend', 'global_rotation_mat_extend', 'global_rotation_extend', 'global_translation', 'global_rotation_mat', 'global_rotation', 'local_rotation', 'global_root_velocity', 'global_root_angular_velocity', 'global_angular_velocity', 'global_velocity', 'dof_pos', 'dof_vels', 'fps', 'action'])\n",
    "    return motion_data\n",
    "\n",
    "\n",
    "def load_data(path: str)->Dict[str, np.ndarray]:\n",
    "    with open(path, 'rb') as f:\n",
    "        motion_data = joblib.load(f)\n",
    "        assert len(motion_data) == 1, 'current only support single motion tracking'\n",
    "        # get the first motion data\n",
    "        motion_data = motion_data[next(iter(motion_data))]\n",
    "    \n",
    "    if UseMotionLib:\n",
    "        motion_lib_data = get_motionlib_data(path)\n",
    "        for key in motion_lib_data.keys():  \n",
    "            \n",
    "            # print(key, type(motion_lib_data[key]))\n",
    "            if not key in motion_data:\n",
    "                motion_data[key] = motion_lib_data[key].numpy()\n",
    "        ...\n",
    "    \n",
    "    \n",
    "    if not 'motion_times' in motion_data:\n",
    "        print(\"Warning: motion_times not in motion_data, calculating it from fps\")\n",
    "        fps = motion_data['fps']\n",
    "        motion_data['motion_times'] = (np.arange(motion_data['dof'].shape[0])+1) / fps\n",
    "    motion_data['frame_idx'] = motion_data['motion_times']*motion_data['fps']\n",
    "    \n",
    "    motion_data['rpy'] = torch.stack(get_euler_xyz(motion_data['root_rot'],True),dim=1).numpy()\n",
    "    motion_data['root_rot_rmyaw'] = remove_yaw(motion_data['root_rot'])\n",
    "    assert np.allclose(get_euler_xyz(motion_data['root_rot_rmyaw'],True)[2], np.zeros_like(motion_data['root_rot_rmyaw'][:,2]), atol=1e-6), f\"Yaw should be zero, got {get_euler_xyz(motion_data['root_rot_rmyaw'],True)[2]}\"\n",
    "    \n",
    "    if 'action' in motion_data:\n",
    "        motion_data['target_dof'] = motion_data['action']*0.25 + default_joint_angles.reshape(1,-1)\n",
    "        \n",
    "    if Roll2 and 'metrics' in path:\n",
    "        key = 'motion_times'\n",
    "        motion_data[key] = np.roll(motion_data[key], -2, axis=0)\n",
    "        for k in motion_data.keys():    \n",
    "            if isinstance(motion_data[k], np.ndarray):\n",
    "                motion_data[k] = motion_data[k][0:-3]\n",
    "    print('motion_times: ', motion_data['motion_times'])\n",
    "        \n",
    "    print('motion_data keys: ', {k:v.shape if isinstance(v, np.ndarray) else v for k,v in motion_data.items()})\n",
    "    # dict_keys(['root_trans_offset', 'pose_aa', 'dof', 'root_rot', 'actor_obs', 'action', 'terminate', 'root_lin_vel', 'root_ang_vel', 'dof_vel', 'motion_times', 'fps'])\n",
    "    return motion_data\n",
    "\n",
    "# mot_data = load_data(mot_path)\n",
    "\n",
    "\n",
    "\n",
    "\n",
    "\n"
   ]
  },
  {
   "cell_type": "code",
   "execution_count": 161,
   "metadata": {},
   "outputs": [],
   "source": [
    "Roll2=True\n",
    "UseMotionLib=True"
   ]
  },
  {
   "cell_type": "code",
   "execution_count": 162,
   "metadata": {},
   "outputs": [
    {
     "name": "stderr",
     "output_type": "stream",
     "text": [
      "\u001b[32m2025-05-31 22:48:04.867\u001b[0m | \u001b[1mINFO    \u001b[0m | \u001b[36mhumanoidverse.utils.motion_lib.motion_lib_robot_WJX\u001b[0m:\u001b[36m__init__\u001b[0m:\u001b[36m110\u001b[0m - \u001b[1mLoaded skeleton from /home/bcj/PBHC-Internal/description/robots/g1/g1_23dof_lock_wrist_fitmotionONLY.xml\u001b[0m\n",
      "\u001b[32m2025-05-31 22:48:04.868\u001b[0m | \u001b[1mINFO    \u001b[0m | \u001b[36mhumanoidverse.utils.motion_lib.motion_lib_robot_WJX\u001b[0m:\u001b[36m__init__\u001b[0m:\u001b[36m111\u001b[0m - \u001b[1mLoading motion data from /home/bcj/PBHC-Internal/logs_0530/20250423_021311-ISA-JingjiTaiji-I5E-3_Fix-motion_tracking-g1_23dof_lock_wrist/motions/None_URCI_MujocoRobot_20250424_022642/0_pid0_frame786_20250424_022702.pkl...\u001b[0m\n",
      "\u001b[32m2025-05-31 22:48:04.870\u001b[0m | \u001b[1mINFO    \u001b[0m | \u001b[36mhumanoidverse.utils.motion_lib.motion_lib_robot_WJX\u001b[0m:\u001b[36mload_data\u001b[0m:\u001b[36m146\u001b[0m - \u001b[1mLoaded 1 motions\u001b[0m\n"
     ]
    },
    {
     "data": {
      "application/vnd.jupyter.widget-view+json": {
       "model_id": "cf099652ea174efc94a0036be9c988c5",
       "version_major": 2,
       "version_minor": 0
      },
      "text/plain": [
       "Output()"
      ]
     },
     "metadata": {},
     "output_type": "display_data"
    },
    {
     "data": {
      "text/html": [
       "<pre style=\"white-space:pre;overflow-x:auto;line-height:normal;font-family:Menlo,'DejaVu Sans Mono',consolas,'Courier New',monospace\"></pre>\n"
      ],
      "text/plain": []
     },
     "metadata": {},
     "output_type": "display_data"
    },
    {
     "data": {
      "application/vnd.jupyter.widget-view+json": {
       "model_id": "f0aa77ccc0a14bedbb0dc4c8b8ada9c1",
       "version_major": 2,
       "version_minor": 0
      },
      "text/plain": [
       "Output()"
      ]
     },
     "metadata": {},
     "output_type": "display_data"
    },
    {
     "data": {
      "text/html": [
       "<pre style=\"white-space:pre;overflow-x:auto;line-height:normal;font-family:Menlo,'DejaVu Sans Mono',consolas,'Courier New',monospace\"></pre>\n"
      ],
      "text/plain": []
     },
     "metadata": {},
     "output_type": "display_data"
    },
    {
     "name": "stderr",
     "output_type": "stream",
     "text": [
      "\u001b[32m2025-05-31 22:48:05.139\u001b[0m | \u001b[1mINFO    \u001b[0m | \u001b[36mhumanoidverse.utils.motion_lib.motion_lib_robot_WJX\u001b[0m:\u001b[36mload_motions\u001b[0m:\u001b[36m201\u001b[0m - \u001b[1mLoading 1 motions...\u001b[0m\n",
      "\u001b[32m2025-05-31 22:48:05.140\u001b[0m | \u001b[1mINFO    \u001b[0m | \u001b[36mhumanoidverse.utils.motion_lib.motion_lib_robot_WJX\u001b[0m:\u001b[36mload_motions\u001b[0m:\u001b[36m202\u001b[0m - \u001b[1mSampling motion: tensor([0]), ....\u001b[0m\n",
      "\u001b[32m2025-05-31 22:48:05.140\u001b[0m | \u001b[1mINFO    \u001b[0m | \u001b[36mhumanoidverse.utils.motion_lib.motion_lib_robot_WJX\u001b[0m:\u001b[36mload_motions\u001b[0m:\u001b[36m203\u001b[0m - \u001b[1mCurrent motion keys: motio, ....\u001b[0m\n"
     ]
    },
    {
     "data": {
      "application/vnd.jupyter.widget-view+json": {
       "model_id": "8befdd2c1ce4434cb4533076a13bceaa",
       "version_major": 2,
       "version_minor": 0
      },
      "text/plain": [
       "Output()"
      ]
     },
     "metadata": {},
     "output_type": "display_data"
    },
    {
     "data": {
      "text/html": [
       "<pre style=\"white-space:pre;overflow-x:auto;line-height:normal;font-family:Menlo,'DejaVu Sans Mono',consolas,'Courier New',monospace\"></pre>\n"
      ],
      "text/plain": []
     },
     "metadata": {},
     "output_type": "display_data"
    },
    {
     "data": {
      "application/vnd.jupyter.widget-view+json": {
       "model_id": "e25e62d4c2fb49aeb15265bd750d5cca",
       "version_major": 2,
       "version_minor": 0
      },
      "text/plain": [
       "Output()"
      ]
     },
     "metadata": {},
     "output_type": "display_data"
    },
    {
     "data": {
      "text/html": [
       "<pre style=\"white-space:pre;overflow-x:auto;line-height:normal;font-family:Menlo,'DejaVu Sans Mono',consolas,'Courier New',monospace\"></pre>\n"
      ],
      "text/plain": []
     },
     "metadata": {},
     "output_type": "display_data"
    },
    {
     "name": "stderr",
     "output_type": "stream",
     "text": [
      "\u001b[32m2025-05-31 22:48:05.227\u001b[0m | \u001b[1mINFO    \u001b[0m | \u001b[36mhumanoidverse.utils.motion_lib.motion_lib_robot_WJX\u001b[0m:\u001b[36mload_motions\u001b[0m:\u001b[36m295\u001b[0m - \u001b[1mLoaded 1 motions with a total length of 15.700s and 786 frames.\u001b[0m\n",
      "\u001b[32m2025-05-31 22:48:05.303\u001b[0m | \u001b[1mINFO    \u001b[0m | \u001b[36mhumanoidverse.utils.motion_lib.motion_lib_robot_WJX\u001b[0m:\u001b[36m__init__\u001b[0m:\u001b[36m110\u001b[0m - \u001b[1mLoaded skeleton from /home/bcj/PBHC-Internal/description/robots/g1/g1_23dof_lock_wrist_fitmotionONLY.xml\u001b[0m\n",
      "\u001b[32m2025-05-31 22:48:05.304\u001b[0m | \u001b[1mINFO    \u001b[0m | \u001b[36mhumanoidverse.utils.motion_lib.motion_lib_robot_WJX\u001b[0m:\u001b[36m__init__\u001b[0m:\u001b[36m111\u001b[0m - \u001b[1mLoading motion data from /home/bcj/PBHC-Internal/logs/External/motions/None_URCI_MujocoRobot_20250531_224641/1_pid1_frame834_20250531_224711.pkl...\u001b[0m\n",
      "\u001b[32m2025-05-31 22:48:05.305\u001b[0m | \u001b[1mINFO    \u001b[0m | \u001b[36mhumanoidverse.utils.motion_lib.motion_lib_robot_WJX\u001b[0m:\u001b[36mload_data\u001b[0m:\u001b[36m146\u001b[0m - \u001b[1mLoaded 1 motions\u001b[0m\n"
     ]
    },
    {
     "data": {
      "application/vnd.jupyter.widget-view+json": {
       "model_id": "7eb1d09d8ce34047ad244c2e9236c39b",
       "version_major": 2,
       "version_minor": 0
      },
      "text/plain": [
       "Output()"
      ]
     },
     "metadata": {},
     "output_type": "display_data"
    },
    {
     "name": "stdout",
     "output_type": "stream",
     "text": [
      "motion_times:  [ 0.02  0.04  0.06  0.08  0.1   0.12  0.14  0.16  0.18  0.2   0.22  0.24\n",
      "  0.26  0.28  0.3   0.32  0.34  0.36  0.38  0.4   0.42  0.44  0.46  0.48\n",
      "  0.5   0.52  0.54  0.56  0.58  0.6   0.62  0.64  0.66  0.68  0.7   0.72\n",
      "  0.74  0.76  0.78  0.8   0.82  0.84  0.86  0.88  0.9   0.92  0.94  0.96\n",
      "  0.98  1.    1.02  1.04  1.06  1.08  1.1   1.12  1.14  1.16  1.18  1.2\n",
      "  1.22  1.24  1.26  1.28  1.3   1.32  1.34  1.36  1.38  1.4   1.42  1.44\n",
      "  1.46  1.48  1.5   1.52  1.54  1.56  1.58  1.6   1.62  1.64  1.66  1.68\n",
      "  1.7   1.72  1.74  1.76  1.78  1.8   1.82  1.84  1.86  1.88  1.9   1.92\n",
      "  1.94  1.96  1.98  2.    2.02  2.04  2.06  2.08  2.1   2.12  2.14  2.16\n",
      "  2.18  2.2   2.22  2.24  2.26  2.28  2.3   2.32  2.34  2.36  2.38  2.4\n",
      "  2.42  2.44  2.46  2.48  2.5   2.52  2.54  2.56  2.58  2.6   2.62  2.64\n",
      "  2.66  2.68  2.7   2.72  2.74  2.76  2.78  2.8   2.82  2.84  2.86  2.88\n",
      "  2.9   2.92  2.94  2.96  2.98  3.    3.02  3.04  3.06  3.08  3.1   3.12\n",
      "  3.14  3.16  3.18  3.2   3.22  3.24  3.26  3.28  3.3   3.32  3.34  3.36\n",
      "  3.38  3.4   3.42  3.44  3.46  3.48  3.5   3.52  3.54  3.56  3.58  3.6\n",
      "  3.62  3.64  3.66  3.68  3.7   3.72  3.74  3.76  3.78  3.8   3.82  3.84\n",
      "  3.86  3.88  3.9   3.92  3.94  3.96  3.98  4.    4.02  4.04  4.06  4.08\n",
      "  4.1   4.12  4.14  4.16  4.18  4.2   4.22  4.24  4.26  4.28  4.3   4.32\n",
      "  4.34  4.36  4.38  4.4   4.42  4.44  4.46  4.48  4.5   4.52  4.54  4.56\n",
      "  4.58  4.6   4.62  4.64  4.66  4.68  4.7   4.72  4.74  4.76  4.78  4.8\n",
      "  4.82  4.84  4.86  4.88  4.9   4.92  4.94  4.96  4.98  5.    5.02  5.04\n",
      "  5.06  5.08  5.1   5.12  5.14  5.16  5.18  5.2   5.22  5.24  5.26  5.28\n",
      "  5.3   5.32  5.34  5.36  5.38  5.4   5.42  5.44  5.46  5.48  5.5   5.52\n",
      "  5.54  5.56  5.58  5.6   5.62  5.64  5.66  5.68  5.7   5.72  5.74  5.76\n",
      "  5.78  5.8   5.82  5.84  5.86  5.88  5.9   5.92  5.94  5.96  5.98  6.\n",
      "  6.02  6.04  6.06  6.08  6.1   6.12  6.14  6.16  6.18  6.2   6.22  6.24\n",
      "  6.26  6.28  6.3   6.32  6.34  6.36  6.38  6.4   6.42  6.44  6.46  6.48\n",
      "  6.5   6.52  6.54  6.56  6.58  6.6   6.62  6.64  6.66  6.68  6.7   6.72\n",
      "  6.74  6.76  6.78  6.8   6.82  6.84  6.86  6.88  6.9   6.92  6.94  6.96\n",
      "  6.98  7.    7.02  7.04  7.06  7.08  7.1   7.12  7.14  7.16  7.18  7.2\n",
      "  7.22  7.24  7.26  7.28  7.3   7.32  7.34  7.36  7.38  7.4   7.42  7.44\n",
      "  7.46  7.48  7.5   7.52  7.54  7.56  7.58  7.6   7.62  7.64  7.66  7.68\n",
      "  7.7   7.72  7.74  7.76  7.78  7.8   7.82  7.84  7.86  7.88  7.9   7.92\n",
      "  7.94  7.96  7.98  8.    8.02  8.04  8.06  8.08  8.1   8.12  8.14  8.16\n",
      "  8.18  8.2   8.22  8.24  8.26  8.28  8.3   8.32  8.34  8.36  8.38  8.4\n",
      "  8.42  8.44  8.46  8.48  8.5   8.52  8.54  8.56  8.58  8.6   8.62  8.64\n",
      "  8.66  8.68  8.7   8.72  8.74  8.76  8.78  8.8   8.82  8.84  8.86  8.88\n",
      "  8.9   8.92  8.94  8.96  8.98  9.    9.02  9.04  9.06  9.08  9.1   9.12\n",
      "  9.14  9.16  9.18  9.2   9.22  9.24  9.26  9.28  9.3   9.32  9.34  9.36\n",
      "  9.38  9.4   9.42  9.44  9.46  9.48  9.5   9.52  9.54  9.56  9.58  9.6\n",
      "  9.62  9.64  9.66  9.68  9.7   9.72  9.74  9.76  9.78  9.8   9.82  9.84\n",
      "  9.86  9.88  9.9   9.92  9.94  9.96  9.98 10.   10.02 10.04 10.06 10.08\n",
      " 10.1  10.12 10.14 10.16 10.18 10.2  10.22 10.24 10.26 10.28 10.3  10.32\n",
      " 10.34 10.36 10.38 10.4  10.42 10.44 10.46 10.48 10.5  10.52 10.54 10.56\n",
      " 10.58 10.6  10.62 10.64 10.66 10.68 10.7  10.72 10.74 10.76 10.78 10.8\n",
      " 10.82 10.84 10.86 10.88 10.9  10.92 10.94 10.96 10.98 11.   11.02 11.04\n",
      " 11.06 11.08 11.1  11.12 11.14 11.16 11.18 11.2  11.22 11.24 11.26 11.28\n",
      " 11.3  11.32 11.34 11.36 11.38 11.4  11.42 11.44 11.46 11.48 11.5  11.52\n",
      " 11.54 11.56 11.58 11.6  11.62 11.64 11.66 11.68 11.7  11.72 11.74 11.76\n",
      " 11.78 11.8  11.82 11.84 11.86 11.88 11.9  11.92 11.94 11.96 11.98 12.\n",
      " 12.02 12.04 12.06 12.08 12.1  12.12 12.14 12.16 12.18 12.2  12.22 12.24\n",
      " 12.26 12.28 12.3  12.32 12.34 12.36 12.38 12.4  12.42 12.44 12.46 12.48\n",
      " 12.5  12.52 12.54 12.56 12.58 12.6  12.62 12.64 12.66 12.68 12.7  12.72\n",
      " 12.74 12.76 12.78 12.8  12.82 12.84 12.86 12.88 12.9  12.92 12.94 12.96\n",
      " 12.98 13.   13.02 13.04 13.06 13.08 13.1  13.12 13.14 13.16 13.18 13.2\n",
      " 13.22 13.24 13.26 13.28 13.3  13.32 13.34 13.36 13.38 13.4  13.42 13.44\n",
      " 13.46 13.48 13.5  13.52 13.54 13.56 13.58 13.6  13.62 13.64 13.66 13.68\n",
      " 13.7  13.72 13.74 13.76 13.78 13.8  13.82 13.84 13.86 13.88 13.9  13.92\n",
      " 13.94 13.96 13.98 14.   14.02 14.04 14.06 14.08 14.1  14.12 14.14 14.16\n",
      " 14.18 14.2  14.22 14.24 14.26 14.28 14.3  14.32 14.34 14.36 14.38 14.4\n",
      " 14.42 14.44 14.46 14.48 14.5  14.52 14.54 14.56 14.58 14.6  14.62 14.64\n",
      " 14.66 14.68 14.7  14.72 14.74 14.76 14.78 14.8  14.82 14.84 14.86 14.88\n",
      " 14.9  14.92 14.94 14.96 14.98 15.   15.02 15.04 15.06 15.08 15.1  15.12\n",
      " 15.14 15.16 15.18 15.2  15.22 15.24 15.26 15.28 15.3  15.32 15.34 15.36\n",
      " 15.38 15.4  15.42 15.44 15.46 15.48 15.5  15.52 15.54 15.56 15.58 15.6\n",
      " 15.62 15.64 15.66 15.68 15.7  15.72]\n",
      "motion_data keys:  {'root_trans_offset': (786, 3), 'pose_aa': (786, 27, 3), 'dof': (786, 23), 'root_rot': (786, 4), 'actor_obs': (786, 380), 'action': (786, 23), 'terminate': (786, 1), 'root_lin_vel': (786, 3), 'root_ang_vel': (786, 3), 'dof_vel': (786, 23), 'clock_time': (786, 1), 'tau': (786, 23), 'cmd': (786, 4), 'motion_times': (786,), 'fps': 50.0, 'global_velocity_extend': (786, 27, 3), 'global_angular_velocity_extend': (786, 27, 3), 'global_translation_extend': (786, 27, 3), 'global_rotation_mat_extend': (786, 27, 3, 3), 'global_rotation_extend': (786, 27, 4), 'global_translation': (786, 24, 3), 'global_rotation_mat': (786, 24, 3, 3), 'global_rotation': (786, 24, 4), 'local_rotation': (786, 27, 4), 'global_root_velocity': (786, 3), 'global_root_angular_velocity': (786, 3), 'global_angular_velocity': (786, 24, 3), 'global_velocity': (786, 24, 3), 'dof_pos': (786, 23), 'dof_vels': (786, 23), 'frame_idx': (786,), 'rpy': (786, 3), 'root_rot_rmyaw': (786, 4), 'target_dof': (786, 23)}\n"
     ]
    },
    {
     "data": {
      "text/html": [
       "<pre style=\"white-space:pre;overflow-x:auto;line-height:normal;font-family:Menlo,'DejaVu Sans Mono',consolas,'Courier New',monospace\"></pre>\n"
      ],
      "text/plain": []
     },
     "metadata": {},
     "output_type": "display_data"
    },
    {
     "data": {
      "application/vnd.jupyter.widget-view+json": {
       "model_id": "88636092142c4e7c825eda32b1c7ea18",
       "version_major": 2,
       "version_minor": 0
      },
      "text/plain": [
       "Output()"
      ]
     },
     "metadata": {},
     "output_type": "display_data"
    },
    {
     "data": {
      "text/html": [
       "<pre style=\"white-space:pre;overflow-x:auto;line-height:normal;font-family:Menlo,'DejaVu Sans Mono',consolas,'Courier New',monospace\"></pre>\n"
      ],
      "text/plain": []
     },
     "metadata": {},
     "output_type": "display_data"
    },
    {
     "name": "stderr",
     "output_type": "stream",
     "text": [
      "\u001b[32m2025-05-31 22:48:05.568\u001b[0m | \u001b[1mINFO    \u001b[0m | \u001b[36mhumanoidverse.utils.motion_lib.motion_lib_robot_WJX\u001b[0m:\u001b[36mload_motions\u001b[0m:\u001b[36m201\u001b[0m - \u001b[1mLoading 1 motions...\u001b[0m\n",
      "\u001b[32m2025-05-31 22:48:05.569\u001b[0m | \u001b[1mINFO    \u001b[0m | \u001b[36mhumanoidverse.utils.motion_lib.motion_lib_robot_WJX\u001b[0m:\u001b[36mload_motions\u001b[0m:\u001b[36m202\u001b[0m - \u001b[1mSampling motion: tensor([0]), ....\u001b[0m\n",
      "\u001b[32m2025-05-31 22:48:05.569\u001b[0m | \u001b[1mINFO    \u001b[0m | \u001b[36mhumanoidverse.utils.motion_lib.motion_lib_robot_WJX\u001b[0m:\u001b[36mload_motions\u001b[0m:\u001b[36m203\u001b[0m - \u001b[1mCurrent motion keys: motio, ....\u001b[0m\n"
     ]
    },
    {
     "data": {
      "application/vnd.jupyter.widget-view+json": {
       "model_id": "00d3ea0a09b348fcb36aca519e9d7494",
       "version_major": 2,
       "version_minor": 0
      },
      "text/plain": [
       "Output()"
      ]
     },
     "metadata": {},
     "output_type": "display_data"
    },
    {
     "data": {
      "text/html": [
       "<pre style=\"white-space:pre;overflow-x:auto;line-height:normal;font-family:Menlo,'DejaVu Sans Mono',consolas,'Courier New',monospace\"></pre>\n"
      ],
      "text/plain": []
     },
     "metadata": {},
     "output_type": "display_data"
    },
    {
     "data": {
      "application/vnd.jupyter.widget-view+json": {
       "model_id": "aa65fc092d244a2cbd178c932e6e0df4",
       "version_major": 2,
       "version_minor": 0
      },
      "text/plain": [
       "Output()"
      ]
     },
     "metadata": {},
     "output_type": "display_data"
    },
    {
     "data": {
      "text/html": [
       "<pre style=\"white-space:pre;overflow-x:auto;line-height:normal;font-family:Menlo,'DejaVu Sans Mono',consolas,'Courier New',monospace\"></pre>\n"
      ],
      "text/plain": []
     },
     "metadata": {},
     "output_type": "display_data"
    },
    {
     "name": "stderr",
     "output_type": "stream",
     "text": [
      "\u001b[32m2025-05-31 22:48:05.603\u001b[0m | \u001b[1mINFO    \u001b[0m | \u001b[36mhumanoidverse.utils.motion_lib.motion_lib_robot_WJX\u001b[0m:\u001b[36mload_motions\u001b[0m:\u001b[36m295\u001b[0m - \u001b[1mLoaded 1 motions with a total length of 16.660s and 834 frames.\u001b[0m\n",
      "\u001b[32m2025-05-31 22:48:05.678\u001b[0m | \u001b[1mINFO    \u001b[0m | \u001b[36mhumanoidverse.utils.motion_lib.motion_lib_robot_WJX\u001b[0m:\u001b[36m__init__\u001b[0m:\u001b[36m110\u001b[0m - \u001b[1mLoaded skeleton from /home/bcj/PBHC-Internal/description/robots/g1/g1_23dof_lock_wrist_fitmotionONLY.xml\u001b[0m\n",
      "\u001b[32m2025-05-31 22:48:05.678\u001b[0m | \u001b[1mINFO    \u001b[0m | \u001b[36mhumanoidverse.utils.motion_lib.motion_lib_robot_WJX\u001b[0m:\u001b[36m__init__\u001b[0m:\u001b[36m111\u001b[0m - \u001b[1mLoading motion data from /home/bcj/PBHC-Internal/logs_0530/20250423_021311-ISA-JingjiTaiji-I5E-3_Fix-motion_tracking-g1_23dof_lock_wrist/motions/None_URCI_RealRobot_20250531_222213/1_pid1_frame437_20250531_222255.pkl...\u001b[0m\n",
      "\u001b[32m2025-05-31 22:48:05.680\u001b[0m | \u001b[1mINFO    \u001b[0m | \u001b[36mhumanoidverse.utils.motion_lib.motion_lib_robot_WJX\u001b[0m:\u001b[36mload_data\u001b[0m:\u001b[36m146\u001b[0m - \u001b[1mLoaded 1 motions\u001b[0m\n"
     ]
    },
    {
     "data": {
      "application/vnd.jupyter.widget-view+json": {
       "model_id": "e3f0442931094e68b144cd96ef84af2c",
       "version_major": 2,
       "version_minor": 0
      },
      "text/plain": [
       "Output()"
      ]
     },
     "metadata": {},
     "output_type": "display_data"
    },
    {
     "name": "stdout",
     "output_type": "stream",
     "text": [
      "motion_times:  [ 0.02  0.04  0.06  0.08  0.1   0.12  0.14  0.16  0.18  0.2   0.22  0.24\n",
      "  0.26  0.28  0.3   0.32  0.34  0.36  0.38  0.4   0.42  0.44  0.46  0.48\n",
      "  0.5   0.52  0.54  0.56  0.58  0.6   0.62  0.64  0.66  0.68  0.7   0.72\n",
      "  0.74  0.76  0.78  0.8   0.82  0.84  0.86  0.88  0.9   0.92  0.94  0.96\n",
      "  0.98  1.    1.02  1.04  1.06  1.08  1.1   1.12  1.14  1.16  1.18  1.2\n",
      "  1.22  1.24  1.26  1.28  1.3   1.32  1.34  1.36  1.38  1.4   1.42  1.44\n",
      "  1.46  1.48  1.5   1.52  1.54  1.56  1.58  1.6   1.62  1.64  1.66  1.68\n",
      "  1.7   1.72  1.74  1.76  1.78  1.8   1.82  1.84  1.86  1.88  1.9   1.92\n",
      "  1.94  1.96  1.98  2.    2.02  2.04  2.06  2.08  2.1   2.12  2.14  2.16\n",
      "  2.18  2.2   2.22  2.24  2.26  2.28  2.3   2.32  2.34  2.36  2.38  2.4\n",
      "  2.42  2.44  2.46  2.48  2.5   2.52  2.54  2.56  2.58  2.6   2.62  2.64\n",
      "  2.66  2.68  2.7   2.72  2.74  2.76  2.78  2.8   2.82  2.84  2.86  2.88\n",
      "  2.9   2.92  2.94  2.96  2.98  3.    3.02  3.04  3.06  3.08  3.1   3.12\n",
      "  3.14  3.16  3.18  3.2   3.22  3.24  3.26  3.28  3.3   3.32  3.34  3.36\n",
      "  3.38  3.4   3.42  3.44  3.46  3.48  3.5   3.52  3.54  3.56  3.58  3.6\n",
      "  3.62  3.64  3.66  3.68  3.7   3.72  3.74  3.76  3.78  3.8   3.82  3.84\n",
      "  3.86  3.88  3.9   3.92  3.94  3.96  3.98  4.    4.02  4.04  4.06  4.08\n",
      "  4.1   4.12  4.14  4.16  4.18  4.2   4.22  4.24  4.26  4.28  4.3   4.32\n",
      "  4.34  4.36  4.38  4.4   4.42  4.44  4.46  4.48  4.5   4.52  4.54  4.56\n",
      "  4.58  4.6   4.62  4.64  4.66  4.68  4.7   4.72  4.74  4.76  4.78  4.8\n",
      "  4.82  4.84  4.86  4.88  4.9   4.92  4.94  4.96  4.98  5.    5.02  5.04\n",
      "  5.06  5.08  5.1   5.12  5.14  5.16  5.18  5.2   5.22  5.24  5.26  5.28\n",
      "  5.3   5.32  5.34  5.36  5.38  5.4   5.42  5.44  5.46  5.48  5.5   5.52\n",
      "  5.54  5.56  5.58  5.6   5.62  5.64  5.66  5.68  5.7   5.72  5.74  5.76\n",
      "  5.78  5.8   5.82  5.84  5.86  5.88  5.9   5.92  5.94  5.96  5.98  6.\n",
      "  6.02  6.04  6.06  6.08  6.1   6.12  6.14  6.16  6.18  6.2   6.22  6.24\n",
      "  6.26  6.28  6.3   6.32  6.34  6.36  6.38  6.4   6.42  6.44  6.46  6.48\n",
      "  6.5   6.52  6.54  6.56  6.58  6.6   6.62  6.64  6.66  6.68  6.7   6.72\n",
      "  6.74  6.76  6.78  6.8   6.82  6.84  6.86  6.88  6.9   6.92  6.94  6.96\n",
      "  6.98  7.    7.02  7.04  7.06  7.08  7.1   7.12  7.14  7.16  7.18  7.2\n",
      "  7.22  7.24  7.26  7.28  7.3   7.32  7.34  7.36  7.38  7.4   7.42  7.44\n",
      "  7.46  7.48  7.5   7.52  7.54  7.56  7.58  7.6   7.62  7.64  7.66  7.68\n",
      "  7.7   7.72  7.74  7.76  7.78  7.8   7.82  7.84  7.86  7.88  7.9   7.92\n",
      "  7.94  7.96  7.98  8.    8.02  8.04  8.06  8.08  8.1   8.12  8.14  8.16\n",
      "  8.18  8.2   8.22  8.24  8.26  8.28  8.3   8.32  8.34  8.36  8.38  8.4\n",
      "  8.42  8.44  8.46  8.48  8.5   8.52  8.54  8.56  8.58  8.6   8.62  8.64\n",
      "  8.66  8.68  8.7   8.72  8.74  8.76  8.78  8.8   8.82  8.84  8.86  8.88\n",
      "  8.9   8.92  8.94  8.96  8.98  9.    9.02  9.04  9.06  9.08  9.1   9.12\n",
      "  9.14  9.16  9.18  9.2   9.22  9.24  9.26  9.28  9.3   9.32  9.34  9.36\n",
      "  9.38  9.4   9.42  9.44  9.46  9.48  9.5   9.52  9.54  9.56  9.58  9.6\n",
      "  9.62  9.64  9.66  9.68  9.7   9.72  9.74  9.76  9.78  9.8   9.82  9.84\n",
      "  9.86  9.88  9.9   9.92  9.94  9.96  9.98 10.   10.02 10.04 10.06 10.08\n",
      " 10.1  10.12 10.14 10.16 10.18 10.2  10.22 10.24 10.26 10.28 10.3  10.32\n",
      " 10.34 10.36 10.38 10.4  10.42 10.44 10.46 10.48 10.5  10.52 10.54 10.56\n",
      " 10.58 10.6  10.62 10.64 10.66 10.68 10.7  10.72 10.74 10.76 10.78 10.8\n",
      " 10.82 10.84 10.86 10.88 10.9  10.92 10.94 10.96 10.98 11.   11.02 11.04\n",
      " 11.06 11.08 11.1  11.12 11.14 11.16 11.18 11.2  11.22 11.24 11.26 11.28\n",
      " 11.3  11.32 11.34 11.36 11.38 11.4  11.42 11.44 11.46 11.48 11.5  11.52\n",
      " 11.54 11.56 11.58 11.6  11.62 11.64 11.66 11.68 11.7  11.72 11.74 11.76\n",
      " 11.78 11.8  11.82 11.84 11.86 11.88 11.9  11.92 11.94 11.96 11.98 12.\n",
      " 12.02 12.04 12.06 12.08 12.1  12.12 12.14 12.16 12.18 12.2  12.22 12.24\n",
      " 12.26 12.28 12.3  12.32 12.34 12.36 12.38 12.4  12.42 12.44 12.46 12.48\n",
      " 12.5  12.52 12.54 12.56 12.58 12.6  12.62 12.64 12.66 12.68 12.7  12.72\n",
      " 12.74 12.76 12.78 12.8  12.82 12.84 12.86 12.88 12.9  12.92 12.94 12.96\n",
      " 12.98 13.   13.02 13.04 13.06 13.08 13.1  13.12 13.14 13.16 13.18 13.2\n",
      " 13.22 13.24 13.26 13.28 13.3  13.32 13.34 13.36 13.38 13.4  13.42 13.44\n",
      " 13.46 13.48 13.5  13.52 13.54 13.56 13.58 13.6  13.62 13.64 13.66 13.68\n",
      " 13.7  13.72 13.74 13.76 13.78 13.8  13.82 13.84 13.86 13.88 13.9  13.92\n",
      " 13.94 13.96 13.98 14.   14.02 14.04 14.06 14.08 14.1  14.12 14.14 14.16\n",
      " 14.18 14.2  14.22 14.24 14.26 14.28 14.3  14.32 14.34 14.36 14.38 14.4\n",
      " 14.42 14.44 14.46 14.48 14.5  14.52 14.54 14.56 14.58 14.6  14.62 14.64\n",
      " 14.66 14.68 14.7  14.72 14.74 14.76 14.78 14.8  14.82 14.84 14.86 14.88\n",
      " 14.9  14.92 14.94 14.96 14.98 15.   15.02 15.04 15.06 15.08 15.1  15.12\n",
      " 15.14 15.16 15.18 15.2  15.22 15.24 15.26 15.28 15.3  15.32 15.34 15.36\n",
      " 15.38 15.4  15.42 15.44 15.46 15.48 15.5  15.52 15.54 15.56 15.58 15.6\n",
      " 15.62 15.64 15.66 15.68 15.7  15.72 15.74 15.76 15.78 15.8  15.82 15.84\n",
      " 15.86 15.88 15.9  15.92 15.94 15.96 15.98 16.   16.02 16.04 16.06 16.08\n",
      " 16.1  16.12 16.14 16.16 16.18 16.2  16.22 16.24 16.26 16.28 16.3  16.32\n",
      " 16.34 16.36 16.38 16.4  16.42 16.44 16.46 16.48 16.5  16.52 16.54 16.56\n",
      " 16.58 16.6  16.62 16.64 16.66 16.68]\n",
      "motion_data keys:  {'root_trans_offset': (834, 3), 'pose_aa': (834, 27, 3), 'dof': (834, 23), 'root_rot': (834, 4), 'actor_obs': (834, 380), 'action': (834, 23), 'terminate': (834, 1), 'root_lin_vel': (834, 3), 'root_ang_vel': (834, 3), 'dof_vel': (834, 23), 'clock_time': (834, 1), 'tau': (834, 23), 'cmd': (834, 4), 'motion_times': (834,), 'fps': 50.0, 'global_velocity_extend': (834, 27, 3), 'global_angular_velocity_extend': (834, 27, 3), 'global_translation_extend': (834, 27, 3), 'global_rotation_mat_extend': (834, 27, 3, 3), 'global_rotation_extend': (834, 27, 4), 'global_translation': (834, 24, 3), 'global_rotation_mat': (834, 24, 3, 3), 'global_rotation': (834, 24, 4), 'local_rotation': (834, 27, 4), 'global_root_velocity': (834, 3), 'global_root_angular_velocity': (834, 3), 'global_angular_velocity': (834, 24, 3), 'global_velocity': (834, 24, 3), 'dof_pos': (834, 23), 'dof_vels': (834, 23), 'frame_idx': (834,), 'rpy': (834, 3), 'root_rot_rmyaw': (834, 4), 'target_dof': (834, 23)}\n"
     ]
    },
    {
     "data": {
      "text/html": [
       "<pre style=\"white-space:pre;overflow-x:auto;line-height:normal;font-family:Menlo,'DejaVu Sans Mono',consolas,'Courier New',monospace\"></pre>\n"
      ],
      "text/plain": []
     },
     "metadata": {},
     "output_type": "display_data"
    },
    {
     "data": {
      "application/vnd.jupyter.widget-view+json": {
       "model_id": "d19aeac425de48debde6ac4f491d6e39",
       "version_major": 2,
       "version_minor": 0
      },
      "text/plain": [
       "Output()"
      ]
     },
     "metadata": {},
     "output_type": "display_data"
    },
    {
     "data": {
      "text/html": [
       "<pre style=\"white-space:pre;overflow-x:auto;line-height:normal;font-family:Menlo,'DejaVu Sans Mono',consolas,'Courier New',monospace\"></pre>\n"
      ],
      "text/plain": []
     },
     "metadata": {},
     "output_type": "display_data"
    },
    {
     "name": "stderr",
     "output_type": "stream",
     "text": [
      "\u001b[32m2025-05-31 22:48:05.932\u001b[0m | \u001b[1mINFO    \u001b[0m | \u001b[36mhumanoidverse.utils.motion_lib.motion_lib_robot_WJX\u001b[0m:\u001b[36mload_motions\u001b[0m:\u001b[36m201\u001b[0m - \u001b[1mLoading 1 motions...\u001b[0m\n",
      "\u001b[32m2025-05-31 22:48:05.932\u001b[0m | \u001b[1mINFO    \u001b[0m | \u001b[36mhumanoidverse.utils.motion_lib.motion_lib_robot_WJX\u001b[0m:\u001b[36mload_motions\u001b[0m:\u001b[36m202\u001b[0m - \u001b[1mSampling motion: tensor([0]), ....\u001b[0m\n",
      "\u001b[32m2025-05-31 22:48:05.933\u001b[0m | \u001b[1mINFO    \u001b[0m | \u001b[36mhumanoidverse.utils.motion_lib.motion_lib_robot_WJX\u001b[0m:\u001b[36mload_motions\u001b[0m:\u001b[36m203\u001b[0m - \u001b[1mCurrent motion keys: motio, ....\u001b[0m\n"
     ]
    },
    {
     "data": {
      "application/vnd.jupyter.widget-view+json": {
       "model_id": "5f233aa12339446093734119ae5806d7",
       "version_major": 2,
       "version_minor": 0
      },
      "text/plain": [
       "Output()"
      ]
     },
     "metadata": {},
     "output_type": "display_data"
    },
    {
     "data": {
      "text/html": [
       "<pre style=\"white-space:pre;overflow-x:auto;line-height:normal;font-family:Menlo,'DejaVu Sans Mono',consolas,'Courier New',monospace\"></pre>\n"
      ],
      "text/plain": []
     },
     "metadata": {},
     "output_type": "display_data"
    },
    {
     "data": {
      "application/vnd.jupyter.widget-view+json": {
       "model_id": "583b0e8283294387a76790e5547e6a1c",
       "version_major": 2,
       "version_minor": 0
      },
      "text/plain": [
       "Output()"
      ]
     },
     "metadata": {},
     "output_type": "display_data"
    },
    {
     "data": {
      "text/html": [
       "<pre style=\"white-space:pre;overflow-x:auto;line-height:normal;font-family:Menlo,'DejaVu Sans Mono',consolas,'Courier New',monospace\"></pre>\n"
      ],
      "text/plain": []
     },
     "metadata": {},
     "output_type": "display_data"
    },
    {
     "name": "stderr",
     "output_type": "stream",
     "text": [
      "\u001b[32m2025-05-31 22:48:05.962\u001b[0m | \u001b[1mINFO    \u001b[0m | \u001b[36mhumanoidverse.utils.motion_lib.motion_lib_robot_WJX\u001b[0m:\u001b[36mload_motions\u001b[0m:\u001b[36m295\u001b[0m - \u001b[1mLoaded 1 motions with a total length of 8.720s and 437 frames.\u001b[0m\n",
      "\u001b[32m2025-05-31 22:48:06.029\u001b[0m | \u001b[1mINFO    \u001b[0m | \u001b[36mhumanoidverse.utils.motion_lib.motion_lib_robot_WJX\u001b[0m:\u001b[36m__init__\u001b[0m:\u001b[36m110\u001b[0m - \u001b[1mLoaded skeleton from /home/bcj/PBHC-Internal/description/robots/g1/g1_23dof_lock_wrist_fitmotionONLY.xml\u001b[0m\n",
      "\u001b[32m2025-05-31 22:48:06.030\u001b[0m | \u001b[1mINFO    \u001b[0m | \u001b[36mhumanoidverse.utils.motion_lib.motion_lib_robot_WJX\u001b[0m:\u001b[36m__init__\u001b[0m:\u001b[36m111\u001b[0m - \u001b[1mLoading motion data from /home/bcj/PBHC-Internal/logs_0530/20250423_021311-ISA-JingjiTaiji-I5E-3_Fix-motion_tracking-g1_23dof_lock_wrist/motions/None_URCI_RealRobot_20250531_222548/1_pid1_frame441_20250531_222647.pkl...\u001b[0m\n",
      "\u001b[32m2025-05-31 22:48:06.032\u001b[0m | \u001b[1mINFO    \u001b[0m | \u001b[36mhumanoidverse.utils.motion_lib.motion_lib_robot_WJX\u001b[0m:\u001b[36mload_data\u001b[0m:\u001b[36m146\u001b[0m - \u001b[1mLoaded 1 motions\u001b[0m\n"
     ]
    },
    {
     "data": {
      "application/vnd.jupyter.widget-view+json": {
       "model_id": "c390b5d025df48e18af5905c654a7fc1",
       "version_major": 2,
       "version_minor": 0
      },
      "text/plain": [
       "Output()"
      ]
     },
     "metadata": {},
     "output_type": "display_data"
    },
    {
     "name": "stdout",
     "output_type": "stream",
     "text": [
      "motion_times:  [0.02 0.04 0.06 0.08 0.1  0.12 0.14 0.16 0.18 0.2  0.22 0.24 0.26 0.28\n",
      " 0.3  0.32 0.34 0.36 0.38 0.4  0.42 0.44 0.46 0.48 0.5  0.52 0.54 0.56\n",
      " 0.58 0.6  0.62 0.64 0.66 0.68 0.7  0.72 0.74 0.76 0.78 0.8  0.82 0.84\n",
      " 0.86 0.88 0.9  0.92 0.94 0.96 0.98 1.   1.02 1.04 1.06 1.08 1.1  1.12\n",
      " 1.14 1.16 1.18 1.2  1.22 1.24 1.26 1.28 1.3  1.32 1.34 1.36 1.38 1.4\n",
      " 1.42 1.44 1.46 1.48 1.5  1.52 1.54 1.56 1.58 1.6  1.62 1.64 1.66 1.68\n",
      " 1.7  1.72 1.74 1.76 1.78 1.8  1.82 1.84 1.86 1.88 1.9  1.92 1.94 1.96\n",
      " 1.98 2.   2.02 2.04 2.06 2.08 2.1  2.12 2.14 2.16 2.18 2.2  2.22 2.24\n",
      " 2.26 2.28 2.3  2.32 2.34 2.36 2.38 2.4  2.42 2.44 2.46 2.48 2.5  2.52\n",
      " 2.54 2.56 2.58 2.6  2.62 2.64 2.66 2.68 2.7  2.72 2.74 2.76 2.78 2.8\n",
      " 2.82 2.84 2.86 2.88 2.9  2.92 2.94 2.96 2.98 3.   3.02 3.04 3.06 3.08\n",
      " 3.1  3.12 3.14 3.16 3.18 3.2  3.22 3.24 3.26 3.28 3.3  3.32 3.34 3.36\n",
      " 3.38 3.4  3.42 3.44 3.46 3.48 3.5  3.52 3.54 3.56 3.58 3.6  3.62 3.64\n",
      " 3.66 3.68 3.7  3.72 3.74 3.76 3.78 3.8  3.82 3.84 3.86 3.88 3.9  3.92\n",
      " 3.94 3.96 3.98 4.   4.02 4.04 4.06 4.08 4.1  4.12 4.14 4.16 4.18 4.2\n",
      " 4.22 4.24 4.26 4.28 4.3  4.32 4.34 4.36 4.38 4.4  4.42 4.44 4.46 4.48\n",
      " 4.5  4.52 4.54 4.56 4.58 4.6  4.62 4.64 4.66 4.68 4.7  4.72 4.74 4.76\n",
      " 4.78 4.8  4.82 4.84 4.86 4.88 4.9  4.92 4.94 4.96 4.98 5.   5.02 5.04\n",
      " 5.06 5.08 5.1  5.12 5.14 5.16 5.18 5.2  5.22 5.24 5.26 5.28 5.3  5.32\n",
      " 5.34 5.36 5.38 5.4  5.42 5.44 5.46 5.48 5.5  5.52 5.54 5.56 5.58 5.6\n",
      " 5.62 5.64 5.66 5.68 5.7  5.72 5.74 5.76 5.78 5.8  5.82 5.84 5.86 5.88\n",
      " 5.9  5.92 5.94 5.96 5.98 6.   6.02 6.04 6.06 6.08 6.1  6.12 6.14 6.16\n",
      " 6.18 6.2  6.22 6.24 6.26 6.28 6.3  6.32 6.34 6.36 6.38 6.4  6.42 6.44\n",
      " 6.46 6.48 6.5  6.52 6.54 6.56 6.58 6.6  6.62 6.64 6.66 6.68 6.7  6.72\n",
      " 6.74 6.76 6.78 6.8  6.82 6.84 6.86 6.88 6.9  6.92 6.94 6.96 6.98 7.\n",
      " 7.02 7.04 7.06 7.08 7.1  7.12 7.14 7.16 7.18 7.2  7.22 7.24 7.26 7.28\n",
      " 7.3  7.32 7.34 7.36 7.38 7.4  7.42 7.44 7.46 7.48 7.5  7.52 7.54 7.56\n",
      " 7.58 7.6  7.62 7.64 7.66 7.68 7.7  7.72 7.74 7.76 7.78 7.8  7.82 7.84\n",
      " 7.86 7.88 7.9  7.92 7.94 7.96 7.98 8.   8.02 8.04 8.06 8.08 8.1  8.12\n",
      " 8.14 8.16 8.18 8.2  8.22 8.24 8.26 8.28 8.3  8.32 8.34 8.36 8.38 8.4\n",
      " 8.42 8.44 8.46 8.48 8.5  8.52 8.54 8.56 8.58 8.6  8.62 8.64 8.66 8.68\n",
      " 8.7  8.72 8.74]\n",
      "motion_data keys:  {'root_trans_offset': (437, 3), 'pose_aa': (437, 27, 3), 'dof': (437, 23), 'root_rot': (437, 4), 'actor_obs': (437, 380), 'action': (437, 23), 'terminate': (437, 1), 'root_lin_vel': (437, 1, 3), 'root_ang_vel': (437, 3), 'dof_vel': (437, 23), 'clock_time': (437,), 'tau': (437, 29), 'cmd': (437, 4), 'q_real': (437, 29), 'dq_real': (437, 29), 'ddq_real': (437, 29), 'accelerometer': (437, 3), 'motion_times': (437,), 'fps': 50.0, 'global_velocity_extend': (437, 27, 3), 'global_angular_velocity_extend': (437, 27, 3), 'global_translation_extend': (437, 27, 3), 'global_rotation_mat_extend': (437, 27, 3, 3), 'global_rotation_extend': (437, 27, 4), 'global_translation': (437, 24, 3), 'global_rotation_mat': (437, 24, 3, 3), 'global_rotation': (437, 24, 4), 'local_rotation': (437, 27, 4), 'global_root_velocity': (437, 3), 'global_root_angular_velocity': (437, 3), 'global_angular_velocity': (437, 24, 3), 'global_velocity': (437, 24, 3), 'dof_pos': (437, 23), 'dof_vels': (437, 23), 'frame_idx': (437,), 'rpy': (437, 3), 'root_rot_rmyaw': (437, 4), 'target_dof': (437, 23)}\n"
     ]
    },
    {
     "data": {
      "text/html": [
       "<pre style=\"white-space:pre;overflow-x:auto;line-height:normal;font-family:Menlo,'DejaVu Sans Mono',consolas,'Courier New',monospace\"></pre>\n"
      ],
      "text/plain": []
     },
     "metadata": {},
     "output_type": "display_data"
    },
    {
     "data": {
      "application/vnd.jupyter.widget-view+json": {
       "model_id": "4edb79a96e2443afb7afe7d64315f396",
       "version_major": 2,
       "version_minor": 0
      },
      "text/plain": [
       "Output()"
      ]
     },
     "metadata": {},
     "output_type": "display_data"
    },
    {
     "data": {
      "text/html": [
       "<pre style=\"white-space:pre;overflow-x:auto;line-height:normal;font-family:Menlo,'DejaVu Sans Mono',consolas,'Courier New',monospace\"></pre>\n"
      ],
      "text/plain": []
     },
     "metadata": {},
     "output_type": "display_data"
    },
    {
     "name": "stderr",
     "output_type": "stream",
     "text": [
      "\u001b[32m2025-05-31 22:48:06.287\u001b[0m | \u001b[1mINFO    \u001b[0m | \u001b[36mhumanoidverse.utils.motion_lib.motion_lib_robot_WJX\u001b[0m:\u001b[36mload_motions\u001b[0m:\u001b[36m201\u001b[0m - \u001b[1mLoading 1 motions...\u001b[0m\n",
      "\u001b[32m2025-05-31 22:48:06.287\u001b[0m | \u001b[1mINFO    \u001b[0m | \u001b[36mhumanoidverse.utils.motion_lib.motion_lib_robot_WJX\u001b[0m:\u001b[36mload_motions\u001b[0m:\u001b[36m202\u001b[0m - \u001b[1mSampling motion: tensor([0]), ....\u001b[0m\n",
      "\u001b[32m2025-05-31 22:48:06.287\u001b[0m | \u001b[1mINFO    \u001b[0m | \u001b[36mhumanoidverse.utils.motion_lib.motion_lib_robot_WJX\u001b[0m:\u001b[36mload_motions\u001b[0m:\u001b[36m203\u001b[0m - \u001b[1mCurrent motion keys: motio, ....\u001b[0m\n"
     ]
    },
    {
     "data": {
      "application/vnd.jupyter.widget-view+json": {
       "model_id": "4fab2e122e904952b6cda35bd21ae98a",
       "version_major": 2,
       "version_minor": 0
      },
      "text/plain": [
       "Output()"
      ]
     },
     "metadata": {},
     "output_type": "display_data"
    },
    {
     "data": {
      "text/html": [
       "<pre style=\"white-space:pre;overflow-x:auto;line-height:normal;font-family:Menlo,'DejaVu Sans Mono',consolas,'Courier New',monospace\"></pre>\n"
      ],
      "text/plain": []
     },
     "metadata": {},
     "output_type": "display_data"
    },
    {
     "data": {
      "application/vnd.jupyter.widget-view+json": {
       "model_id": "dffd26e1fabf4dcda25d1d006184ee9e",
       "version_major": 2,
       "version_minor": 0
      },
      "text/plain": [
       "Output()"
      ]
     },
     "metadata": {},
     "output_type": "display_data"
    },
    {
     "data": {
      "text/html": [
       "<pre style=\"white-space:pre;overflow-x:auto;line-height:normal;font-family:Menlo,'DejaVu Sans Mono',consolas,'Courier New',monospace\"></pre>\n"
      ],
      "text/plain": []
     },
     "metadata": {},
     "output_type": "display_data"
    },
    {
     "name": "stderr",
     "output_type": "stream",
     "text": [
      "\u001b[32m2025-05-31 22:48:06.319\u001b[0m | \u001b[1mINFO    \u001b[0m | \u001b[36mhumanoidverse.utils.motion_lib.motion_lib_robot_WJX\u001b[0m:\u001b[36mload_motions\u001b[0m:\u001b[36m295\u001b[0m - \u001b[1mLoaded 1 motions with a total length of 8.800s and 441 frames.\u001b[0m\n"
     ]
    },
    {
     "name": "stdout",
     "output_type": "stream",
     "text": [
      "motion_times:  [0.02 0.04 0.06 0.08 0.1  0.12 0.14 0.16 0.18 0.2  0.22 0.24 0.26 0.28\n",
      " 0.3  0.32 0.34 0.36 0.38 0.4  0.42 0.44 0.46 0.48 0.5  0.52 0.54 0.56\n",
      " 0.58 0.6  0.62 0.64 0.66 0.68 0.7  0.72 0.74 0.76 0.78 0.8  0.82 0.84\n",
      " 0.86 0.88 0.9  0.92 0.94 0.96 0.98 1.   1.02 1.04 1.06 1.08 1.1  1.12\n",
      " 1.14 1.16 1.18 1.2  1.22 1.24 1.26 1.28 1.3  1.32 1.34 1.36 1.38 1.4\n",
      " 1.42 1.44 1.46 1.48 1.5  1.52 1.54 1.56 1.58 1.6  1.62 1.64 1.66 1.68\n",
      " 1.7  1.72 1.74 1.76 1.78 1.8  1.82 1.84 1.86 1.88 1.9  1.92 1.94 1.96\n",
      " 1.98 2.   2.02 2.04 2.06 2.08 2.1  2.12 2.14 2.16 2.18 2.2  2.22 2.24\n",
      " 2.26 2.28 2.3  2.32 2.34 2.36 2.38 2.4  2.42 2.44 2.46 2.48 2.5  2.52\n",
      " 2.54 2.56 2.58 2.6  2.62 2.64 2.66 2.68 2.7  2.72 2.74 2.76 2.78 2.8\n",
      " 2.82 2.84 2.86 2.88 2.9  2.92 2.94 2.96 2.98 3.   3.02 3.04 3.06 3.08\n",
      " 3.1  3.12 3.14 3.16 3.18 3.2  3.22 3.24 3.26 3.28 3.3  3.32 3.34 3.36\n",
      " 3.38 3.4  3.42 3.44 3.46 3.48 3.5  3.52 3.54 3.56 3.58 3.6  3.62 3.64\n",
      " 3.66 3.68 3.7  3.72 3.74 3.76 3.78 3.8  3.82 3.84 3.86 3.88 3.9  3.92\n",
      " 3.94 3.96 3.98 4.   4.02 4.04 4.06 4.08 4.1  4.12 4.14 4.16 4.18 4.2\n",
      " 4.22 4.24 4.26 4.28 4.3  4.32 4.34 4.36 4.38 4.4  4.42 4.44 4.46 4.48\n",
      " 4.5  4.52 4.54 4.56 4.58 4.6  4.62 4.64 4.66 4.68 4.7  4.72 4.74 4.76\n",
      " 4.78 4.8  4.82 4.84 4.86 4.88 4.9  4.92 4.94 4.96 4.98 5.   5.02 5.04\n",
      " 5.06 5.08 5.1  5.12 5.14 5.16 5.18 5.2  5.22 5.24 5.26 5.28 5.3  5.32\n",
      " 5.34 5.36 5.38 5.4  5.42 5.44 5.46 5.48 5.5  5.52 5.54 5.56 5.58 5.6\n",
      " 5.62 5.64 5.66 5.68 5.7  5.72 5.74 5.76 5.78 5.8  5.82 5.84 5.86 5.88\n",
      " 5.9  5.92 5.94 5.96 5.98 6.   6.02 6.04 6.06 6.08 6.1  6.12 6.14 6.16\n",
      " 6.18 6.2  6.22 6.24 6.26 6.28 6.3  6.32 6.34 6.36 6.38 6.4  6.42 6.44\n",
      " 6.46 6.48 6.5  6.52 6.54 6.56 6.58 6.6  6.62 6.64 6.66 6.68 6.7  6.72\n",
      " 6.74 6.76 6.78 6.8  6.82 6.84 6.86 6.88 6.9  6.92 6.94 6.96 6.98 7.\n",
      " 7.02 7.04 7.06 7.08 7.1  7.12 7.14 7.16 7.18 7.2  7.22 7.24 7.26 7.28\n",
      " 7.3  7.32 7.34 7.36 7.38 7.4  7.42 7.44 7.46 7.48 7.5  7.52 7.54 7.56\n",
      " 7.58 7.6  7.62 7.64 7.66 7.68 7.7  7.72 7.74 7.76 7.78 7.8  7.82 7.84\n",
      " 7.86 7.88 7.9  7.92 7.94 7.96 7.98 8.   8.02 8.04 8.06 8.08 8.1  8.12\n",
      " 8.14 8.16 8.18 8.2  8.22 8.24 8.26 8.28 8.3  8.32 8.34 8.36 8.38 8.4\n",
      " 8.42 8.44 8.46 8.48 8.5  8.52 8.54 8.56 8.58 8.6  8.62 8.64 8.66 8.68\n",
      " 8.7  8.72 8.74 8.76 8.78 8.8  8.82]\n",
      "motion_data keys:  {'root_trans_offset': (441, 3), 'pose_aa': (441, 27, 3), 'dof': (441, 23), 'root_rot': (441, 4), 'actor_obs': (441, 380), 'action': (441, 23), 'terminate': (441, 1), 'root_lin_vel': (441, 1, 3), 'root_ang_vel': (441, 3), 'dof_vel': (441, 23), 'clock_time': (441,), 'tau': (441, 29), 'cmd': (441, 4), 'q_real': (441, 29), 'dq_real': (441, 29), 'ddq_real': (441, 29), 'accelerometer': (441, 3), 'motion_times': (441,), 'fps': 50.0, 'global_velocity_extend': (441, 27, 3), 'global_angular_velocity_extend': (441, 27, 3), 'global_translation_extend': (441, 27, 3), 'global_rotation_mat_extend': (441, 27, 3, 3), 'global_rotation_extend': (441, 27, 4), 'global_translation': (441, 24, 3), 'global_rotation_mat': (441, 24, 3, 3), 'global_rotation': (441, 24, 4), 'local_rotation': (441, 27, 4), 'global_root_velocity': (441, 3), 'global_root_angular_velocity': (441, 3), 'global_angular_velocity': (441, 24, 3), 'global_velocity': (441, 24, 3), 'dof_pos': (441, 23), 'dof_vels': (441, 23), 'frame_idx': (441,), 'rpy': (441, 3), 'root_rot_rmyaw': (441, 4), 'target_dof': (441, 23)}\n"
     ]
    }
   ],
   "source": [
    "\n",
    "# motion_data_dict = {\n",
    "#     'ou0.15-1':\"/home/bai/PBHC-Internal/logs/ExploreIMU/20250424_020712-ABLIner_Guitar2_I5E-3_rdALL01-motion_tracking-g1_23dof_lock_wrist/motions/OU015_URCI_MujocoRobot_20250528_150329/1_pid0_frame485_20250528_150334.pkl\",\n",
    "#     'ou0.15-2':\"/home/bai/PBHC-Internal/logs/ExploreIMU/20250424_020712-ABLIner_Guitar2_I5E-3_rdALL01-motion_tracking-g1_23dof_lock_wrist/motions/OU015_URCI_MujocoRobot_20250528_150329/2_pid0_frame485_20250528_150336.pkl\",\n",
    "#     'ou0.15-3':\"/home/bai/PBHC-Internal/logs/ExploreIMU/20250424_020712-ABLIner_Guitar2_I5E-3_rdALL01-motion_tracking-g1_23dof_lock_wrist/motions/OU015_URCI_MujocoRobot_20250528_150329/0_pid0_frame485_20250528_150332.pkl\",\n",
    "#     'emp':\"/home/bai/PBHC-Internal/logs/ExploreIMU/20250424_020712-ABLIner_Guitar2_I5E-3_rdALL01-motion_tracking-g1_23dof_lock_wrist/motions/Empty_URCI_MujocoRobot_20250528_150406/1_pid0_frame485_20250528_150411.pkl\",\n",
    "#     # 'white1.8': \"/home/bai/PBHC-Internal/logs/ExploreIMU/20250424_020712-ABLIner_Guitar2_I5E-3_rdALL01-motion_tracking-g1_23dof_lock_wrist/motions/Whit1.825_URCI_MujocoRobot_20250528_153205/2_pid0_frame485_20250528_153211.pkl\",\n",
    "#     'gt': \"../SharedMotions/guitar2_IF5.pkl\",\n",
    "# }\n",
    "\n",
    "motion_data_dict = {\n",
    "    'pc': \"/home/bcj/PBHC-Internal/logs_0530/20250422_024844-ISA_Fight_I5E-3_Fix-motion_tracking-g1_23dof_lock_wrist/motions/PC_normal_344f.pkl\",\n",
    "    'nx': \"/home/bcj/PBHC-Internal/logs_0530/20250422_024844-ISA_Fight_I5E-3_Fix-motion_tracking-g1_23dof_lock_wrist/motions/NX_explode_76f.pkl\"\n",
    "}\n",
    "\n",
    "# motion_data_dict = {\n",
    "#     'pc': \"/home/bcj/PBHC-Internal/logs_0530/20250422_024844-ISA_Fight_I5E-3_Fix-motion_tracking-g1_23dof_lock_wrist/motions/PC_NOEMA_normal_351.pkl\",\n",
    "#     'nx': \"/home/bcj/PBHC-Internal/logs_0530/20250422_024844-ISA_Fight_I5E-3_Fix-motion_tracking-g1_23dof_lock_wrist/motions/NX_NOEMA_explode_83f.pkl\"\n",
    "# }\n",
    "\n",
    "# motion_data_dict = {\n",
    "#     'coeff_def': \"/home/bcj/PBHC-Internal/logs/External/motions/def_KP1_URCI_MujocoRobot_20250531_173649/0_pid0_frame12974_20250531_173712.pkl\",\n",
    "#     'coeff_off': \"/home/bcj/PBHC-Internal/logs/External/motions/off_KP1_URCI_MujocoRobot_20250531_174003/0_pid0_frame14298_20250531_174026.pkl\"\n",
    "# }\n",
    "\n",
    "# motion_data_dict = {\n",
    "#     'mjc_WA30k': '/home/bcj/PBHC-Internal/logs_0530/20250528_120842-ABLIMU_Guitar2_WA-motion_tracking-g1_23dof_lock_wrist/motions/None_URCI_MujocoRobot_20250531_202502/1_pid1_frame485_20250531_202508.pkl',\n",
    "#     'real_WA30k' : '/home/bcj/PBHC-Internal/logs_0530/20250528_120842-ABLIMU_Guitar2_WA-motion_tracking-g1_23dof_lock_wrist/motions/1_pid1_frame325_20250531_195734.pkl',\n",
    "#     'real_OUN30k' : \"/home/bcj/PBHC-Internal/logs_0530/20250528_215514-ABLIMU_Guitar2_OUN-motion_tracking-g1_23dof_lock_wrist/motions/1_pid1_frame100_20250531_201613.pkl\",\n",
    "#     'real_OUR30k': '/home/bcj/PBHC-Internal/logs_0530/20250528_215640-ABLIMU_Guitar2_OUR-motion_tracking-g1_23dof_lock_wrist/None_URCI_RealRobot_20250531_201958/1_pid1_frame485_20250531_202032.pkl'\n",
    "# }\n",
    "motion_data_dict = {\n",
    "    'empty': \"\",\n",
    "}\n",
    "\n",
    "motion_data_dict = {\n",
    "    'empty': \"\",\n",
    "}\n",
    "\n",
    "motion_data_dict = {\n",
    "    'mjc': \"/home/bcj/PBHC-Internal/logs_0530/20250423_021311-ISA-JingjiTaiji-I5E-3_Fix-motion_tracking-g1_23dof_lock_wrist/motions/None_URCI_MujocoRobot_20250424_022642/0_pid0_frame786_20250424_022702.pkl\",\n",
    "    'mjc_addmass': \"/home/bcj/PBHC-Internal/logs/External/motions/None_URCI_MujocoRobot_20250531_224641/1_pid1_frame834_20250531_224711.pkl\",\n",
    "    # 'ig': \"/home/bcj/PBHC-Internal/logs_0530/20250423_021311-ISA-JingjiTaiji-I5E-3_Fix-motion_tracking-g1_23dof_lock_wrist/motions/SampleEps_20250531_223816_1x832-832.pkl\",\n",
    "    'real': \"/home/bcj/PBHC-Internal/logs_0530/20250423_021311-ISA-JingjiTaiji-I5E-3_Fix-motion_tracking-g1_23dof_lock_wrist/motions/None_URCI_RealRobot_20250531_222213/1_pid1_frame437_20250531_222255.pkl\",\n",
    "    'real2': \"/home/bcj/PBHC-Internal/logs_0530/20250423_021311-ISA-JingjiTaiji-I5E-3_Fix-motion_tracking-g1_23dof_lock_wrist/motions/None_URCI_RealRobot_20250531_222548/1_pid1_frame441_20250531_222647.pkl\"\n",
    "}\n",
    "motion_data_dict = {k:load_data(v) for k,v in motion_data_dict.items()}\n"
   ]
  },
  {
   "cell_type": "code",
   "execution_count": 163,
   "metadata": {},
   "outputs": [],
   "source": [
    "\n",
    "# # 第0帧算history是有东西的, 因为Reset里有这一步\n",
    "# original_actor_obs = motion_data_dict['original']['actor_obs'][0]\n",
    "# simple_actor_obs = motion_data_dict['simple']['actor_obs'][0]\n",
    "\n",
    "# print(original_actor_obs[23:26])\n",
    "# print(simple_actor_obs[23:26])\n",
    "\n",
    "# (Pdb) obs_keys\n",
    "# ['actions', 'base_ang_vel', 'dof_pos', 'dof_vel', 'history_actor', 'projected_gravity', 'ref_motion_phase']\n",
    "\n",
    "\n",
    "# real_fail_actor_obs = motion_data_dict['real_fail']['actor_obs'][0]\n",
    "# mjc_actor_obs = motion_data_dict['mjc']['actor_obs'][0]\n",
    "# \n",
    "# # Check where they differ\n",
    "# diff = real_fail_actor_obs - mjc_actor_obs\n",
    "# # print(\"Difference between 'real_fail' and 'mjc' actor observations:\", diff)\n",
    "# \n"
   ]
  },
  {
   "cell_type": "code",
   "execution_count": 164,
   "metadata": {},
   "outputs": [],
   "source": [
    "# joint_keys = (motion_data_dict['real_fail'].keys()) and (motion_data_dict['mjc'].keys())\n",
    "# # clipto = [100, 150]\n",
    "# # clipto = [400, 450]\n",
    "# # clipto = [500, 550]\n",
    "# clipto = [580, 585]\n",
    "# # clipto = [500, 650]\n",
    "\n",
    "# clipto = [180, 185]\n",
    "# diff_mean = {}\n",
    "# for key in joint_keys:\n",
    "#     if key in ['tau', 'fps','root_trans_offset', 'pose_aa','actor_obs', 'root_lin_vel','clock_time']: continue\n",
    "#     diff_mean[key] = ((motion_data_dict['real_fail'][key][clipto[0]:clipto[1]] - \n",
    "#                       motion_data_dict['mjc'][key][clipto[0]:clipto[1]])**2).mean(axis=0)\n",
    "\n",
    "# print(diff_mean)"
   ]
  },
  {
   "cell_type": "code",
   "execution_count": 165,
   "metadata": {},
   "outputs": [],
   "source": [
    "# max_dof_vel = motion_data_dict['real_fail']['tau'][:,14].max()\n",
    "# \n",
    "# print(max_dof_vel)"
   ]
  },
  {
   "cell_type": "code",
   "execution_count": 166,
   "metadata": {},
   "outputs": [],
   "source": [
    "import matplotlib.pyplot as plt\n",
    "# clipto = [560, 586]\n",
    "# clipto = [0,70]\n",
    "clipto = [1000,-1]\n",
    "# clipto=[500,650]\n",
    "\n",
    "def simple_visualize(motion_data_dict, x_key, y_key, x_dim=0, y_dim=0):\n",
    "    \"\"\"\n",
    "    简单可视化函数\n",
    "    \n",
    "    参数:\n",
    "        motion_data_dict: 运动数据字典 {name: data}\n",
    "        x_key: x轴数据key\n",
    "        y_key: y轴数据key\n",
    "        x_dim: x数据的维度索引\n",
    "        y_dim: y数据的维度索引\n",
    "    \"\"\"\n",
    "    plt.figure(figsize=(10, 6))\n",
    "    for name, motion_data in motion_data_dict.items():\n",
    "        \n",
    "        x_data = motion_data[x_key]\n",
    "        y_data = motion_data[y_key]\n",
    "        \n",
    "        len_x = len(x_data)\n",
    "        len_y = len(y_data)\n",
    "        \n",
    "        # 处理不同维度的数据\n",
    "        if x_data.ndim == 1:\n",
    "            x = x_data\n",
    "        elif x_data.ndim == 2 :\n",
    "            x = x_data[:, x_dim] \n",
    "        elif x_data.ndim > 2:\n",
    "            x = x_data.reshape(len_x,-1)[:, x_dim]\n",
    "            print(f\"Warning: x_data has more than 2 dimensions, reshaping to {x_data.reshape(len_x,-1).shape}\")\n",
    "        \n",
    "        if y_data.ndim == 1:\n",
    "            y = y_data\n",
    "        elif y_data.ndim >= 2:\n",
    "            y = y_data.reshape(len_y,-1)[:, y_dim] \n",
    "            if y_data.ndim > 2:\n",
    "                print(f\"Warning: y_data has more than 2 dimensions, reshaping to {y_data.reshape(len_y,-1).shape}\")\n",
    "        \n",
    "        plt.plot(x[clipto[0]:clipto[1]], y[clipto[0]:clipto[1]], label=name)\n",
    "        plt.xlabel(f\"{x_key} (dim {x_dim})\")\n",
    "        plt.ylabel(f\"{y_key} (dim {y_dim})\")\n",
    "        plt.title(f\"{y_key} vs {x_key}\")\n",
    "        plt.grid(True)\n",
    "        plt.legend()\n",
    "    plt.show()\n",
    "\n",
    "# 使用示例\n",
    "\n",
    "\n",
    "# simple_visualize(motion_data_dict, 'motion_times', 'root_rot_rmyaw', x_dim=0, y_dim=0)\n",
    "# simple_visualize(motion_data_dict, 'motion_times', 'root_rot_rmyaw', x_dim=0, y_dim=1)\n",
    "# simple_visualize(motion_data_dict, 'motion_times', 'root_rot_rmyaw', x_dim=0, y_dim=2)\n",
    "# simple_visualize(motion_data_dict, 'motion_times', 'root_rot_rmyaw', x_dim=0, y_dim=3)\n",
    "\n",
    "# simple_visualize(motion_data_dict, 'motion_times', 'dof', x_dim=0, y_dim=0)\n",
    "# simple_visualize(motion_data_dict, 'motion_times', 'dof', x_dim=0, y_dim=1)"
   ]
  },
  {
   "cell_type": "code",
   "execution_count": 167,
   "metadata": {},
   "outputs": [],
   "source": [
    "import matplotlib.pyplot as plt\n",
    "import numpy as np\n",
    "import os\n",
    "from math import ceil, sqrt\n",
    "from typing import List\n",
    "from matplotlib.backends.backend_pdf import PdfPages\n",
    "\n",
    "def visualize_all_keys_all_dims(\n",
    "    motion_data_dict,\n",
    "    clipto=[1000, -1],\n",
    "    save_path=\"all_motion_keys_plot.pdf\",\n",
    "    plots_per_page=20,\n",
    "    keys: List[str] = None,\n",
    "):\n",
    "    \"\"\"\n",
    "    可视化 motion_data_dict 中指定 keys 的所有维度，按网格排列并保存为一个多页 PDF。\n",
    "\n",
    "    参数:\n",
    "        motion_data_dict: {name: {key: ndarray}}\n",
    "        clipto: 裁剪范围 [start, end]\n",
    "        save_path: 多页 PDF 保存路径\n",
    "        plots_per_page: 每页子图数\n",
    "        keys: 选择性绘制的 key 列表（默认全部）\n",
    "    \"\"\"\n",
    "    available_keys = sorted({k for d in motion_data_dict.values() for k in d.keys()})\n",
    "    if keys is None:\n",
    "        selected_keys = available_keys\n",
    "    else:\n",
    "        selected_keys = [k for k in keys if k in available_keys]\n",
    "        missing = [k for k in keys if k not in available_keys]\n",
    "        if missing:\n",
    "            print(f\"⚠️ 警告: 下列 key 不在数据中，将被跳过: {missing}\")\n",
    "\n",
    "    plot_tasks = []\n",
    "    for key in selected_keys:\n",
    "        for data in motion_data_dict.values():\n",
    "            if key in data:\n",
    "                sample = data[key]\n",
    "                break\n",
    "        else:\n",
    "            continue\n",
    "        dims = 1 if sample.ndim == 1 else sample.reshape(len(sample), -1).shape[1]\n",
    "        for dim in range(dims):\n",
    "            plot_tasks.append((key, dim))\n",
    "\n",
    "    total_pages = ceil(len(plot_tasks) / plots_per_page)\n",
    "    print(f\"📄 选中图数：{len(plot_tasks)}，将生成 {total_pages} 页\")\n",
    "\n",
    "    os.makedirs(os.path.dirname(save_path) or \".\", exist_ok=True)\n",
    "    with PdfPages(save_path) as pdf:\n",
    "        for page in range(total_pages):\n",
    "            num_subplots = min(plots_per_page, len(plot_tasks) - page * plots_per_page)\n",
    "            ncols = ceil(sqrt(num_subplots))\n",
    "            nrows = ceil(num_subplots / ncols)\n",
    "\n",
    "            fig, axes = plt.subplots(nrows, ncols, figsize=(4 * ncols, 3 * nrows), squeeze=False)\n",
    "            axes = axes.flatten()\n",
    "\n",
    "            for i in range(len(axes)):\n",
    "                ax = axes[i]\n",
    "                task_idx = page * plots_per_page + i\n",
    "                if task_idx >= len(plot_tasks):\n",
    "                    ax.axis('off')\n",
    "                    continue\n",
    "\n",
    "                key, dim = plot_tasks[task_idx]\n",
    "                for name, motion_data in motion_data_dict.items():\n",
    "                    if key not in motion_data:\n",
    "                        continue\n",
    "                    y_data = motion_data[key]\n",
    "                    len_y = len(y_data)\n",
    "                    x_data = motion_data.get(\"motion_times\", np.arange(len_y))\n",
    "\n",
    "                    # print(key,dim)\n",
    "                    x = x_data.reshape(len(x_data), -1)[:, 0] if x_data.ndim > 1 else x_data\n",
    "                    y = y_data.reshape(len_y, -1)[:, dim] if y_data.ndim > 1 else y_data\n",
    "\n",
    "                    ax.plot(x[clipto[0]:clipto[1]], y[clipto[0]:clipto[1]], label=name)\n",
    "\n",
    "                ax.set_title(f\"{key}[{dim}]\", fontsize=8)\n",
    "                ax.tick_params(labelsize=6)\n",
    "                ax.grid(True)\n",
    "                ax.legend(fontsize=6)\n",
    "\n",
    "            plt.tight_layout()\n",
    "            pdf.savefig(fig)\n",
    "            plt.close()\n",
    "            print(f\"✅ 第 {page + 1} 页加入 PDF\")\n",
    "\n",
    "    print(f\"🎉 所有页已合并保存为：{save_path}\")\n"
   ]
  },
  {
   "cell_type": "code",
   "execution_count": 170,
   "metadata": {},
   "outputs": [
    {
     "name": "stdout",
     "output_type": "stream",
     "text": [
      "📄 选中图数：98，将生成 5 页\n",
      "✅ 第 1 页加入 PDF\n",
      "✅ 第 2 页加入 PDF\n",
      "✅ 第 3 页加入 PDF\n",
      "✅ 第 4 页加入 PDF\n",
      "✅ 第 5 页加入 PDF\n",
      "🎉 所有页已合并保存为：final_motion_plots.pdf\n"
     ]
    }
   ],
   "source": [
    "visualize_all_keys_all_dims(\n",
    "    motion_data_dict,\n",
    "    clipto=[0, 200],\n",
    "    save_path=\"final_motion_plots.pdf\",\n",
    "    plots_per_page=23,\n",
    "    keys=[\"dof\", \"dof_vel\", \"tau\", 'target_dof', 'rpy', \"root_ang_vel\"]\n",
    ")\n"
   ]
  }
 ],
 "metadata": {
  "kernelspec": {
   "display_name": "pbhc",
   "language": "python",
   "name": "python3"
  },
  "language_info": {
   "codemirror_mode": {
    "name": "ipython",
    "version": 3
   },
   "file_extension": ".py",
   "mimetype": "text/x-python",
   "name": "python",
   "nbconvert_exporter": "python",
   "pygments_lexer": "ipython3",
   "version": "3.8.20"
  }
 },
 "nbformat": 4,
 "nbformat_minor": 2
}
